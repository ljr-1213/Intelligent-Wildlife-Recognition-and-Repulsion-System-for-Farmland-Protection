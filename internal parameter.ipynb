{
 "cells": [
  {
   "cell_type": "markdown",
   "metadata": {},
   "source": [
    "單台相機校正"
   ]
  },
  {
   "cell_type": "code",
   "execution_count": null,
   "metadata": {},
   "outputs": [],
   "source": [
    "#編號1\n",
    "import cv2\n",
    "import numpy as np\n",
    "import glob\n",
    "\n",
    "# 定義棋盤格的大小\n",
    "chessboard_size = (9, 6)  \n",
    "square_size = 2.5  # 棋盤格單位長度\n",
    "\n",
    "# 準備3D世界座標點（位於XY平面）\n",
    "objp = np.zeros((chessboard_size[0] * chessboard_size[1], 3), np.float32)\n",
    "objp[:, :2] = np.mgrid[0:chessboard_size[0], 0:chessboard_size[1]].T.reshape(-1, 2) * square_size\n",
    "\n",
    "# 儲存對應的3D世界座標與2D影像座標\n",
    "obj_points1 = []  # 3D座標點\n",
    "img_points1 = []  # 2D影像座標點\n",
    "\n",
    "# 讀取影像 \n",
    "images1 = glob.glob(\"patternphoto/camera_computer/1/*.jpg\") \n",
    "\n",
    "for fname in images1:\n",
    "    img1 = cv2.imread(fname)\n",
    "    gray1 = cv2.cvtColor(img1, cv2.COLOR_BGR2GRAY)\n",
    "\n",
    "    # 偵測棋盤格角點\n",
    "    ret, corners = cv2.findChessboardCorners(gray1, chessboard_size, None)\n",
    "\n",
    "    if ret:\n",
    "        obj_points1.append(objp)\n",
    "        img_points1.append(corners)\n",
    "\n",
    "        # 繪製角點以確認偵測正確\n",
    "        img1=cv2.drawChessboardCorners(img1, chessboard_size, corners, ret)\n",
    "        cv2.imshow('Chessboard Corners', img1)\n",
    "        #plt.show()\n",
    "        cv2.waitKey(500)\n",
    "\n",
    "cv2.destroyAllWindows()\n"
   ]
  },
  {
   "cell_type": "code",
   "execution_count": 48,
   "metadata": {},
   "outputs": [
    {
     "name": "stdout",
     "output_type": "stream",
     "text": [
      "編號1:\n",
      "相機內參矩陣 (Camera Matrix):\n",
      " [[2.00360408e+03 0.00000000e+00 9.25242081e+02]\n",
      " [0.00000000e+00 1.50411453e+03 5.29417906e+02]\n",
      " [0.00000000e+00 0.00000000e+00 1.00000000e+00]]\n",
      "畸變係數 (Distortion Coefficients):\n",
      " [[ 4.63559055e-03 -5.89700965e-01  5.09270412e-05  2.11691149e-03\n",
      "   1.88317468e+00]]\n",
      "RMS 重投影誤差: 0.9870 像素\n"
     ]
    }
   ],
   "source": [
    "# 進行相機校正\n",
    "ret1, camera_matrix1, dist_coeffs1, rvecs1, tvecs1 = cv2.calibrateCamera(obj_points1, img_points1, gray1.shape[::-1], None, None)\n",
    "\n",
    "# 顯示結果\n",
    "print(\"編號1:\")\n",
    "print(\"相機內參矩陣 (Camera Matrix):\\n\", camera_matrix1)\n",
    "print(\"畸變係數 (Distortion Coefficients):\\n\", dist_coeffs1)\n",
    "print(f\"RMS 重投影誤差: {ret1:.4f} 像素\")"
   ]
  },
  {
   "cell_type": "code",
   "execution_count": null,
   "metadata": {},
   "outputs": [],
   "source": [
    "#編號2\n",
    "\n",
    "import cv2\n",
    "import numpy as np\n",
    "import glob\n",
    "\n",
    "chessboard_size = (9, 6)  \n",
    "square_size = 2.5  \n",
    "\n",
    "objp = np.zeros((chessboard_size[0] * chessboard_size[1], 3), np.float32)\n",
    "objp[:, :2] = np.mgrid[0:chessboard_size[0], 0:chessboard_size[1]].T.reshape(-1, 2) * square_size\n",
    "\n",
    "obj_points2 = [] \n",
    "img_points2 = []  \n",
    "\n",
    "\n",
    "images2 = glob.glob(\"patternphoto/camera_computer/2/*.jpg\") \n",
    "\n",
    "for fname in images2:\n",
    "    img2 = cv2.imread(fname)\n",
    "    gray2 = cv2.cvtColor(img2, cv2.COLOR_BGR2GRAY)\n",
    "    ret, corners = cv2.findChessboardCorners(gray2, chessboard_size, None)\n",
    "\n",
    "    if ret:\n",
    "        obj_points2.append(objp)\n",
    "        img_points2.append(corners)\n",
    "\n",
    "        img2=cv2.drawChessboardCorners(img2, chessboard_size, corners, ret)\n",
    "        cv2.imshow('Chessboard Corners', img2)\n",
    "        cv2.waitKey(500)\n",
    "\n",
    "cv2.destroyAllWindows()\n"
   ]
  },
  {
   "cell_type": "code",
   "execution_count": null,
   "metadata": {},
   "outputs": [
    {
     "name": "stdout",
     "output_type": "stream",
     "text": [
      "編號2:\n",
      "相機內參矩陣 (Camera Matrix):\n",
      " [[1.97386030e+03 0.00000000e+00 8.99068057e+02]\n",
      " [0.00000000e+00 1.48037743e+03 5.62805759e+02]\n",
      " [0.00000000e+00 0.00000000e+00 1.00000000e+00]]\n",
      "畸變係數 (Distortion Coefficients):\n",
      " [[ 1.44373320e-01 -2.83192799e+00 -3.66737222e-03  4.73604559e-04\n",
      "   1.23743308e+01]]\n",
      "RMS 重投影誤差: 0.9833 像素\n"
     ]
    }
   ],
   "source": [
    "\n",
    "ret2, camera_matrix2, dist_coeffs2, rvecs2, tvecs2 = cv2.calibrateCamera(obj_points2, img_points2, gray2.shape[::-1], None, None)\n",
    "\n",
    "print(\"編號2:\")\n",
    "print(\"相機內參矩陣 (Camera Matrix):\\n\", camera_matrix2)\n",
    "print(\"畸變係數 (Distortion Coefficients):\\n\", dist_coeffs2)\n",
    "print(f\"RMS 重投影誤差: {ret2:.4f} 像素\")"
   ]
  },
  {
   "cell_type": "code",
   "execution_count": null,
   "metadata": {},
   "outputs": [],
   "source": [
    "#編號3\n",
    "\n",
    "import cv2\n",
    "import numpy as np\n",
    "import glob\n",
    "\n",
    "chessboard_size = (9, 6)  \n",
    "square_size = 2.5  \n",
    "\n",
    "objp = np.zeros((chessboard_size[0] * chessboard_size[1], 3), np.float32)\n",
    "objp[:, :2] = np.mgrid[0:chessboard_size[0], 0:chessboard_size[1]].T.reshape(-1, 2) * square_size\n",
    "\n",
    "obj_points3 = []  \n",
    "img_points3 = []  \n",
    "\n",
    "images3 = glob.glob(\"patternphoto/camera_computer/3/*.jpg\") \n",
    "\n",
    "for fname in images3:\n",
    "    img3 = cv2.imread(fname)\n",
    "    gray3 = cv2.cvtColor(img3, cv2.COLOR_BGR2GRAY)\n",
    "  \n",
    "\n",
    "    ret, corners = cv2.findChessboardCorners(gray3, chessboard_size, None)\n",
    "\n",
    "    if ret:\n",
    "        obj_points3.append(objp)\n",
    "        img_points3.append(corners)\n",
    "\n",
    "        img3=cv2.drawChessboardCorners(img3, chessboard_size, corners, ret)\n",
    "        cv2.imshow('Chessboard Corners', img3)\n",
    "        cv2.waitKey(500)\n",
    "\n",
    "cv2.destroyAllWindows()\n"
   ]
  },
  {
   "cell_type": "code",
   "execution_count": null,
   "metadata": {},
   "outputs": [
    {
     "name": "stdout",
     "output_type": "stream",
     "text": [
      "編號3:\n",
      "相機內參矩陣 (Camera Matrix):\n",
      " [[1.98807867e+03 0.00000000e+00 9.54628263e+02]\n",
      " [0.00000000e+00 1.48698973e+03 5.75289864e+02]\n",
      " [0.00000000e+00 0.00000000e+00 1.00000000e+00]]\n",
      "畸變係數 (Distortion Coefficients):\n",
      " [[ 4.87647738e-02 -1.42206998e+00  2.63301440e-04  3.75294232e-03\n",
      "   5.23169573e+00]]\n",
      "RMS 重投影誤差: 0.9512 像素\n"
     ]
    }
   ],
   "source": [
    "\n",
    "ret3, camera_matrix3, dist_coeffs3, rvecs3, tvecs3 = cv2.calibrateCamera(obj_points3, img_points3, gray3.shape[::-1], None, None)\n",
    "\n",
    "print(\"編號3:\")\n",
    "print(\"相機內參矩陣 (Camera Matrix):\\n\", camera_matrix3)\n",
    "print(\"畸變係數 (Distortion Coefficients):\\n\", dist_coeffs3)\n",
    "print(f\"RMS 重投影誤差: {ret3:.4f} 像素\")"
   ]
  }
 ],
 "metadata": {
  "kernelspec": {
   "display_name": "py39",
   "language": "python",
   "name": "python3"
  },
  "language_info": {
   "codemirror_mode": {
    "name": "ipython",
    "version": 3
   },
   "file_extension": ".py",
   "mimetype": "text/x-python",
   "name": "python",
   "nbconvert_exporter": "python",
   "pygments_lexer": "ipython3",
   "version": "3.9.18"
  }
 },
 "nbformat": 4,
 "nbformat_minor": 2
}
